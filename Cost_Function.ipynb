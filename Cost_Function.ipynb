{
  "nbformat": 4,
  "nbformat_minor": 0,
  "metadata": {
    "colab": {
      "provenance": [],
      "authorship_tag": "ABX9TyNC33WESa62d7/k4aFVWGDc",
      "include_colab_link": true
    },
    "kernelspec": {
      "name": "python3",
      "display_name": "Python 3"
    },
    "language_info": {
      "name": "python"
    }
  },
  "cells": [
    {
      "cell_type": "markdown",
      "metadata": {
        "id": "view-in-github",
        "colab_type": "text"
      },
      "source": [
        "<a href=\"https://colab.research.google.com/github/keerthisaivel/Machine-Learning/blob/main/Cost_Function.ipynb\" target=\"_parent\"><img src=\"https://colab.research.google.com/assets/colab-badge.svg\" alt=\"Open In Colab\"/></a>"
      ]
    },
    {
      "cell_type": "code",
      "execution_count": 4,
      "metadata": {
        "id": "rPp2SN5ZgHTt"
      },
      "outputs": [],
      "source": [
        "import numpy as np\n",
        "import matplotlib.pyplot as plt\n"
      ]
    },
    {
      "cell_type": "code",
      "source": [
        "x_train = np.array([1.0, 2.0])           #(size in 1000 square feet)\n",
        "y_train = np.array([300.0, 500.0])           #(price in 1000s of dollars)"
      ],
      "metadata": {
        "id": "3qgyKiJjGmTQ"
      },
      "execution_count": 5,
      "outputs": []
    },
    {
      "cell_type": "code",
      "source": [
        "def compute_cost(x, y, w, b):\n",
        "    \"\"\"\n",
        "    Computes the cost function for linear regression.\n",
        "\n",
        "    Args:\n",
        "      x (ndarray (m,)): Data, m examples\n",
        "      y (ndarray (m,)): target values\n",
        "      w,b (scalar)    : model parameters\n",
        "\n",
        "    Returns\n",
        "        total_cost (float): The cost of using w,b as the parameters for linear regression\n",
        "               to fit the data points in x and y\n",
        "    \"\"\"\n",
        "    # number of training examples\n",
        "    m = x.shape[0]\n",
        "\n",
        "    cost_sum = 0\n",
        "    for i in range(m):\n",
        "        f_wb = w * x[i] + b\n",
        "        cost = (f_wb - y[i]) ** 2\n",
        "        cost_sum = cost_sum + cost\n",
        "    total_cost = (1 / (2 * m)) * cost_sum\n",
        "\n",
        "    return total_cost"
      ],
      "metadata": {
        "id": "tdHCuAa9HDkD"
      },
      "execution_count": 6,
      "outputs": []
    },
    {
      "cell_type": "code",
      "source": [
        "x_train = np.array([1.0, 1.7, 2.0, 2.5, 3.0, 3.2])\n",
        "y_train = np.array([250, 300, 480,  430,   630, 730,])"
      ],
      "metadata": {
        "id": "lvnnoV7uHFaQ"
      },
      "execution_count": 7,
      "outputs": []
    },
    {
      "cell_type": "code",
      "source": [
        "plt.close('all')\n"
      ],
      "metadata": {
        "id": "4TFkZEzWHgUU"
      },
      "execution_count": 9,
      "outputs": []
    }
  ]
}